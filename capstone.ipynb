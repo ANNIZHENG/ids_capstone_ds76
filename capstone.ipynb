{
 "cells": [
  {
   "cell_type": "code",
   "execution_count": 1,
   "id": "e9181d6e",
   "metadata": {},
   "outputs": [],
   "source": [
    "import numpy as np\n",
    "import pandas as pd"
   ]
  },
  {
   "cell_type": "code",
   "execution_count": 4,
   "id": "4a787041",
   "metadata": {},
   "outputs": [],
   "source": [
    "\"\"\" load data \"\"\"\n",
    "\n",
    "spotify = pd.read_csv('spotify52kData.csv')\n",
    "star = pd.read_csv('starRatings.csv', header=None)\n",
    "\n",
    "# spotify.head()\n",
    "# star.head()"
   ]
  },
  {
   "cell_type": "code",
   "execution_count": 31,
   "id": "1040e5df",
   "metadata": {},
   "outputs": [],
   "source": [
    "\"\"\"\n",
    "\n",
    "convert data to proper types (numeric, boolean...)\n",
    "\n",
    "in spotify52kData,\n",
    "songNumber, popularity, duration, danceability, energy, key, loudness, mode\n",
    "speechiness, acoustincness, instrumentalness, liveness, valence, tempo, and time_signature\n",
    "are all converted to numeric data\n",
    "\n",
    "all data in star should be numeric\n",
    "\n",
    "\"\"\"\n",
    "\n",
    "spotify['songNumber'] = pd.to_numeric(spotify['songNumber'], errors='coerce')\n",
    "spotify['popularity'] = pd.to_numeric(spotify['popularity'], errors='coerce')\n",
    "spotify['duration'] = pd.to_numeric(spotify['duration'], errors='coerce')\n",
    "spotify['danceability'] = pd.to_numeric(spotify['danceability'], errors='coerce')\n",
    "spotify['energy'] = pd.to_numeric(spotify['energy'], errors='coerce')\n",
    "spotify['key'] = pd.to_numeric(spotify['key'], errors='coerce')\n",
    "spotify['loudness'] = pd.to_numeric(spotify['loudness'], errors='coerce')\n",
    "spotify['mode'] = pd.to_numeric(spotify['mode'], errors='coerce')\n",
    "spotify['speechiness'] = pd.to_numeric(spotify['speechiness'], errors='coerce')\n",
    "spotify['acousticness'] = pd.to_numeric(spotify['acousticness'], errors='coerce')\n",
    "spotify['instrumentalness'] = pd.to_numeric(spotify['instrumentalness'], errors='coerce')\n",
    "spotify['liveness'] = pd.to_numeric(spotify['liveness'], errors='coerce')\n",
    "spotify['valence'] = pd.to_numeric(spotify['valence'], errors='coerce')\n",
    "spotify['tempo'] = pd.to_numeric(spotify['tempo'], errors='coerce')\n",
    "spotify['time_signature'] = pd.to_numeric(spotify['time_signature'], errors='coerce')\n",
    "star = star.apply(pd.to_numeric, errors='coerce')"
   ]
  },
  {
   "cell_type": "code",
   "execution_count": 79,
   "id": "6af463c0",
   "metadata": {},
   "outputs": [],
   "source": [
    "\"\"\" row-wise removal overall \"\"\"\n",
    "\n",
    "# spotify = spotify.dropna()\n",
    "\n",
    "# star = star.dropna()\n",
    "\n",
    "\"\"\" row-wise removal based on certain column \"\"\"\n",
    "\n",
    "# spotify = spotify.dropna(subset=['Popularity'])\n",
    "\n",
    "# star = star.drop(star[0].isna().index) # user removal based on whether that user rated a song\n",
    "\n",
    "\"\"\" column-wise removal based on certain row (make more sense to do in star data) \"\"\"\n",
    "\n",
    "# star = star.drop(df.columns[star.iloc[0].isna()], axis=1) # song removal based on whether it has missing ratings\n",
    "\n",
    "\"\"\" imputation with average \"\"\"\n",
    "\n",
    "# spotify['popularity'] = spotify['popularity'].fillna(spotify['popularity'].mean())\n",
    "\n",
    "# star = star.fillna(star.mean()) # impute nan values with average ratings of songs\n",
    "\n",
    "# star = star.fillna(star.mean(axis=1)) # impute nan values with average ratings of users to all songs"
   ]
  }
 ],
 "metadata": {
  "kernelspec": {
   "display_name": "Python 3 (ipykernel)",
   "language": "python",
   "name": "python3"
  },
  "language_info": {
   "codemirror_mode": {
    "name": "ipython",
    "version": 3
   },
   "file_extension": ".py",
   "mimetype": "text/x-python",
   "name": "python",
   "nbconvert_exporter": "python",
   "pygments_lexer": "ipython3",
   "version": "3.11.4"
  }
 },
 "nbformat": 4,
 "nbformat_minor": 5
}
